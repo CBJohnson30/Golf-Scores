{
 "cells": [
  {
   "cell_type": "code",
   "execution_count": 1,
   "source": [
    "import pandas as pd \r\n",
    "import ipywidgets as widgets\r\n",
    "import datetime\r\n",
    "import sqlalchemy\r\n",
    "import psycopg2\r\n",
    "import golf_functions"
   ],
   "outputs": [],
   "metadata": {}
  },
  {
   "cell_type": "code",
   "execution_count": null,
   "source": [
    "course_select_query = '''\r\n",
    "Select ct.course_id\r\n",
    "    ,Max(ct.course_version_id) as course_version_id\r\n",
    "    ,ct.course_tee_id\r\n",
    "    ,cn.course_name\r\n",
    "    ,ct.tee\r\n",
    "from \"Courses\".\"course_tee\" ct \r\n",
    "left join \"Courses\".\"course_name\" cn on cast(ct.course_id as int) = cn.course_id\r\n",
    "group by ct.course_id, ct.tee, cn.course_name, ct.course_tee_id\r\n",
    "'''"
   ],
   "outputs": [],
   "metadata": {}
  },
  {
   "cell_type": "code",
   "execution_count": null,
   "source": [
    "course_tee_select = golf_functions.pull_from_sql(course_select_query)\r\n",
    "course_tee_select['course_tee'] = course_tee_select['course_name'] + ' - ' + course_tee_select['tee']"
   ],
   "outputs": [],
   "metadata": {}
  },
  {
   "cell_type": "code",
   "execution_count": null,
   "source": [
    "course_list = list(course_tee_select['course_tee'])\r\n",
    "course_list.sort()\r\n",
    "ct_select = widgets.Dropdown(options = course_list)\r\n",
    "ct_select"
   ],
   "outputs": [],
   "metadata": {}
  },
  {
   "cell_type": "code",
   "execution_count": null,
   "source": [
    "course_select = course_tee_select[course_tee_select['course_tee'] == ct_select.value]\r\n",
    "course_select.reset_index(inplace=True)"
   ],
   "outputs": [],
   "metadata": {}
  },
  {
   "cell_type": "code",
   "execution_count": null,
   "source": [
    "weather_types = ['Sun', 'Rain', 'Snow', 'Light Breeze', 'Wind', 'Cold', 'Hot', 'NA']\r\n",
    "weather_types.sort()\r\n",
    "date_lbl = widgets.Label('Date Played')\r\n",
    "date_ent = widgets.DatePicker()\r\n",
    "weather_lbl = widgets.Label('Weather While Playing')\r\n",
    "weather_ent1 = widgets.Dropdown(options = weather_types)\r\n",
    "weather_ent2 = widgets.Dropdown(options = weather_types)\r\n",
    "display(date_lbl)\r\n",
    "display(date_ent)\r\n",
    "display(weather_lbl)\r\n",
    "display(weather_ent1)\r\n",
    "display(weather_ent2)"
   ],
   "outputs": [],
   "metadata": {}
  },
  {
   "cell_type": "code",
   "execution_count": null,
   "source": [
    "round_info = course_select.loc[:,('course_id', 'course_version_id', 'course_tee_id', 'tee')]\r\n",
    "round_info['date_played'] = date_ent.value.strftime('%Y-%m-%d')\r\n",
    "if weather_ent2.value != 'NA':\r\n",
    "    weather_entry = weather_ent1.value +'/'+ weather_ent2.value\r\n",
    "else:\r\n",
    "    weather_entry = weather_ent1.value\r\n",
    "round_info['weather'] = weather_entry\r\n",
    "round_info"
   ],
   "outputs": [],
   "metadata": {}
  },
  {
   "cell_type": "code",
   "execution_count": null,
   "source": [
    "round_length  = ['Full 18', 'Front 9', 'Back 9']\r\n",
    "length_select = widgets.Dropdown(options = round_length)\r\n",
    "length_select"
   ],
   "outputs": [],
   "metadata": {}
  },
  {
   "cell_type": "code",
   "execution_count": null,
   "source": [
    "if length_select.value == 'Full 18':\r\n",
    "    holes_select = '1 and 18'\r\n",
    "    hole_range = [1,19]\r\n",
    "elif length_select.value == 'Front 9':\r\n",
    "    holes_select = '1 and 9'\r\n",
    "    hole_range = [1,10]\r\n",
    "elif length_select.value == 'Back 9':\r\n",
    "    holes_select = '10 and 18'\r\n",
    "    hole_range = [10,19]\r\n",
    "holes_played_query = '''\r\n",
    "Select * from \"Courses\".\"hole_info\"\r\n",
    "where course_id = {0} and course_tee_id = {1} and cast(hole as int) between {2};\r\n",
    "'''.format(\"'\"+str(course_select['course_id'][0])+\"'\",\r\n",
    "            str(course_select['course_tee_id'][0]),\r\n",
    "            holes_select)\r\n",
    "hole_played = golf_functions.pull_from_sql(holes_played_query)\r\n",
    "hole_played"
   ],
   "outputs": [],
   "metadata": {}
  },
  {
   "cell_type": "code",
   "execution_count": null,
   "source": [
    "note_query = '''\r\n",
    "Select note, note_abbv from \"Scores\".\"note_definations\"\r\n",
    "'''\r\n",
    "notes = golf_functions.pull_from_sql(note_query)\r\n",
    "notes_name = list(notes['note'])\r\n",
    "notes_name.sort()\r\n",
    "miss_list = ['Y', 'N', 'NA']\r\n",
    "miss_way_list = ['Right', 'Left', 'Short', 'Long', 'NA']"
   ],
   "outputs": [],
   "metadata": {}
  },
  {
   "cell_type": "code",
   "execution_count": null,
   "source": [
    "for h in range(0,hole_played.shape[0]):\r\n",
    "    temp_df = hole_played.loc[h]\r\n",
    "    globals()['header_%s' % h + '_lbl'] = widgets.Label('Hole '+str(temp_df['hole'])+ ' Par '+str(temp_df['par']))\r\n",
    "    globals()['score_%s' % h + '_lbl'] = widgets.Label('Score')\r\n",
    "    globals()['score_%s' % h + '_ent'] = widgets.IntText(value = int(temp_df['par']))\r\n",
    "    globals()['FIR_%s' % h + '_lbl'] = widgets.Label('Fairway in Regulation')\r\n",
    "    globals()['FIR_%s' % h + '_ent'] = widgets.Dropdown(options = miss_list, value = None)\r\n",
    "    globals()['FIR_ms_%s' % h + '_lbl'] = widgets.Label('Fairway in Regulation Miss Side')\r\n",
    "    globals()['FIR_ms_%s' % h + '_ent'] = widgets.Dropdown(options = miss_way_list, value = None)\r\n",
    "    globals()['GIR_%s' % h + '_lbl'] = widgets.Label('Green in Regulation')\r\n",
    "    globals()['GIR_%s' % h + '_ent'] = widgets.Dropdown(options = miss_list, value = None)\r\n",
    "    globals()['GIR_ms_%s' % h + '_lbl'] = widgets.Label('Green in Regulation Miss Side')\r\n",
    "    globals()['GIR_ms_%s' % h + '_ent'] = widgets.Dropdown(options = miss_way_list, value = None)\r\n",
    "    globals()['putts_%s' % h + '_lbl'] = widgets.Label('Number of Putts')\r\n",
    "    globals()['putts_%s' % h + '_ent'] = widgets.IntText()\r\n",
    "    globals()['notes_%s' % h + '_lbl'] = widgets.Label('Notes')\r\n",
    "    globals()['notes_1_%s' % h + '_ent'] = widgets.Dropdown(options = notes_name, value = 'No Note')\r\n",
    "    globals()['notes_2_%s' % h + '_ent'] = widgets.Dropdown(options = notes_name, value = 'No Note')\r\n",
    "    globals()['hole_%s' % h + '_ent'] = temp_df['hole']\r\n",
    "    globals()['par_%s' % h + '_ent'] = temp_df['par']\r\n",
    "    display(globals()['header_%s' % h + '_lbl'])\r\n",
    "    display(globals()['score_%s' % h + '_lbl'])\r\n",
    "    display(globals()['score_%s' % h + '_ent'])\r\n",
    "    display(globals()['FIR_%s' % h + '_lbl'])\r\n",
    "    display(globals()['FIR_%s' % h + '_ent'])\r\n",
    "    display(globals()['FIR_ms_%s' % h + '_lbl'])\r\n",
    "    display(globals()['FIR_ms_%s' % h + '_ent'])\r\n",
    "    display(globals()['GIR_%s' % h + '_lbl'])\r\n",
    "    display(globals()['GIR_%s' % h + '_ent'])\r\n",
    "    display(globals()['GIR_ms_%s' % h + '_lbl'])\r\n",
    "    display(globals()['GIR_ms_%s' % h + '_ent'])\r\n",
    "    display(globals()['putts_%s' % h + '_lbl'])\r\n",
    "    display(globals()['putts_%s' % h + '_ent'])\r\n",
    "    display(globals()['notes_%s' % h + '_lbl'])\r\n",
    "    display(globals()['notes_1_%s' % h + '_ent'])\r\n",
    "    display(globals()['notes_2_%s' % h + '_ent'])"
   ],
   "outputs": [],
   "metadata": {}
  },
  {
   "cell_type": "code",
   "execution_count": null,
   "source": [
    "hole_list = []\r\n",
    "par_list = []\r\n",
    "score_list = []\r\n",
    "FIR_list = []\r\n",
    "FIR_miss_list = []\r\n",
    "GIR_list = []\r\n",
    "GIR_miss_list = []\r\n",
    "putts_list = []\r\n",
    "notes_1_list = []\r\n",
    "notes_2_list = []\r\n",
    "for h in range(0,hole_played.shape[0]):\r\n",
    "    hole_list.append(globals().get('hole_%s' % h + '_ent'))\r\n",
    "    par_list.append(globals().get('par_%s' % h + '_ent'))\r\n",
    "    score_list.append(globals().get('score_%s' % h + '_ent').value)\r\n",
    "    FIR_list.append(globals().get('FIR_%s' % h + '_ent').value)\r\n",
    "    FIR_miss_list.append(globals().get('FIR_ms_%s' % h + '_ent').value)\r\n",
    "    GIR_list.append(globals().get('GIR_%s' % h + '_ent').value)\r\n",
    "    GIR_miss_list.append(globals().get('GIR_ms_%s' % h + '_ent').value)\r\n",
    "    putts_list.append(globals().get('putts_%s' % h + '_ent').value)\r\n",
    "    notes_1_list.append(globals().get('notes_1_%s' % h + '_ent').value)\r\n",
    "    notes_2_list.append(globals().get('notes_2_%s' % h + '_ent').value)\r\n",
    "\r\n",
    "hole_played_dict = {\r\n",
    "    'hole_number':hole_list,\r\n",
    "    'par':par_list,\r\n",
    "    'score':score_list,\r\n",
    "    'fir':FIR_list,\r\n",
    "    'f_miss_side':FIR_miss_list,\r\n",
    "    'gir':GIR_list,\r\n",
    "    'g_miss_side':GIR_miss_list,\r\n",
    "    'putts':putts_list,\r\n",
    "    'note_1':notes_1_list,\r\n",
    "    'note_2':notes_2_list\r\n",
    "}\r\n",
    "hole_scores = pd.DataFrame(hole_played_dict,columns=hole_played_dict.keys())\r\n",
    "hole_scores['score_to_par'] = hole_scores['score'] - hole_scores['par'].astype(int)\r\n",
    "for col in ['note_1', 'note_2']:\r\n",
    "    hole_scores[col] = hole_scores[col].map(pd.Series(notes['note_abbv'].values, index=notes['note']).to_dict())\r\n",
    "print(\"Score to Par = \" + str(sum(hole_scores[\"score_to_par\"])))\r\n",
    "print(\"Fairways in Regulation = \" +str(sum(hole_scores['fir'] == 'Y')))\r\n",
    "print(\"Greens in Regulation = \" +str(sum(hole_scores['gir'] == 'Y')))\r\n",
    "print(\"Number of putts = \" +str(sum(hole_scores['putts'])))"
   ],
   "outputs": [],
   "metadata": {}
  },
  {
   "cell_type": "code",
   "execution_count": null,
   "source": [
    "round_info['date_played'] = pd.to_datetime(round_info['date_played'])\r\n",
    "round_info.rename(columns= {'tee':'tee_played'}, inplace=True)\r\n",
    "print('Please Check that Round Infromation is Correct')\r\n",
    "round_info"
   ],
   "outputs": [],
   "metadata": {}
  },
  {
   "cell_type": "code",
   "execution_count": null,
   "source": [
    "hole_scores"
   ],
   "outputs": [],
   "metadata": {}
  },
  {
   "cell_type": "markdown",
   "source": [
    "If the above information is correct please run the next cell"
   ],
   "metadata": {}
  },
  {
   "cell_type": "code",
   "execution_count": null,
   "source": [
    "schema = '\"Scores\"'\r\n",
    "procedure = 'add_new_round'\r\n",
    "for h in range(0,hole_scores.shape[0]):\r\n",
    "    values = (\r\n",
    "        round_info[\"course_id\"][0],\r\n",
    "        round_info[\"course_version_id\"][0],\r\n",
    "        round_info[\"course_tee_id\"][0],\r\n",
    "        round_info[\"tee_played\"][0],\r\n",
    "        str(round_info[\"date_played\"][0]),\r\n",
    "        round_info[\"weather\"][0],\r\n",
    "        hole_scores[\"hole_number\"][h],\r\n",
    "        hole_scores[\"score\"][h],\r\n",
    "        hole_scores[\"score_to_par\"][h],\r\n",
    "        hole_scores[\"fir\"][h],\r\n",
    "        hole_scores[\"f_miss_side\"][h],\r\n",
    "        hole_scores[\"gir\"][h],\r\n",
    "        hole_scores[\"g_miss_side\"][h],\r\n",
    "        hole_scores[\"putts\"][h],\r\n",
    "        hole_scores[\"note_1\"][h],\r\n",
    "        hole_scores[\"note_2\"][h]\r\n",
    "    )\r\n",
    "    golf_functions.load_procedure(schema, procedure, values)"
   ],
   "outputs": [],
   "metadata": {}
  },
  {
   "cell_type": "code",
   "execution_count": null,
   "source": [],
   "outputs": [],
   "metadata": {}
  }
 ],
 "metadata": {
  "interpreter": {
   "hash": "b3ba2566441a7c06988d0923437866b63cedc61552a5af99d1f4fb67d367b25f"
  },
  "kernelspec": {
   "name": "python3",
   "display_name": "Python 3.7.6 64-bit"
  },
  "language_info": {
   "codemirror_mode": {
    "name": "ipython",
    "version": 3
   },
   "file_extension": ".py",
   "mimetype": "text/x-python",
   "name": "python",
   "nbconvert_exporter": "python",
   "pygments_lexer": "ipython3",
   "version": "3.7.6"
  },
  "orig_nbformat": 2
 },
 "nbformat": 4,
 "nbformat_minor": 2
}