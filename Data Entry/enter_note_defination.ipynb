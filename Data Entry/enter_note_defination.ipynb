{
 "metadata": {
  "language_info": {
   "codemirror_mode": {
    "name": "ipython",
    "version": 3
   },
   "file_extension": ".py",
   "mimetype": "text/x-python",
   "name": "python",
   "nbconvert_exporter": "python",
   "pygments_lexer": "ipython3",
   "version": "3.7.6"
  },
  "orig_nbformat": 2,
  "kernelspec": {
   "name": "python376jvsc74a57bd0b3ba2566441a7c06988d0923437866b63cedc61552a5af99d1f4fb67d367b25f",
   "display_name": "Python 3.7.6 64-bit ('base': conda)"
  }
 },
 "nbformat": 4,
 "nbformat_minor": 2,
 "cells": [
  {
   "cell_type": "code",
   "execution_count": null,
   "metadata": {},
   "outputs": [],
   "source": [
    "import pandas as pd \n",
    "import ipywidgets as widgets\n",
    "import datetime\n",
    "import sqlalchemy\n",
    "import psycopg2\n",
    "import golf_functions"
   ]
  },
  {
   "source": [
    "This notebook is used for enter data into the 'note_defination' table. This will hold info about each note, what each of them mean, and the definations\n",
    "\n",
    "You will need:\n",
    "- note abbreviation\n",
    "- note\n",
    "- note defination"
   ],
   "cell_type": "markdown",
   "metadata": {}
  },
  {
   "cell_type": "code",
   "execution_count": null,
   "metadata": {},
   "outputs": [],
   "source": [
    "note_query = '''\n",
    "Select * from \"Scores\".\"note_definations\"\n",
    "'''"
   ]
  },
  {
   "cell_type": "code",
   "execution_count": null,
   "metadata": {},
   "outputs": [],
   "source": [
    "notes_in_db = golf_functions.pull_from_sql(note_query)\n",
    "# Checking to see what notes are currently in database\n",
    "notes_in_db"
   ]
  },
  {
   "cell_type": "code",
   "execution_count": null,
   "metadata": {},
   "outputs": [],
   "source": [
    "# creating labels and widgets for entry\n",
    "full_name_lbl = widgets.Label('Note Full Name')\n",
    "full_name_ent = widgets.Text()\n",
    "abbv_lbl = widgets.Label('Note Abbreviation')\n",
    "abbv_ent = widgets.Text()\n",
    "def_lbl = widgets.Label('Note Defination')\n",
    "def_ent = widgets.Text()"
   ]
  },
  {
   "cell_type": "code",
   "execution_count": null,
   "metadata": {},
   "outputs": [],
   "source": [
    "# displaying widgets for entry\n",
    "display(full_name_lbl)\n",
    "display(full_name_ent)\n",
    "display(abbv_lbl)\n",
    "display(abbv_ent)\n",
    "display(def_lbl)\n",
    "display(def_ent)"
   ]
  },
  {
   "cell_type": "code",
   "execution_count": null,
   "metadata": {},
   "outputs": [],
   "source": [
    "# making df used for load_sql\n",
    "note_dict = {\n",
    "    'note':full_name_ent.value,\n",
    "    'note_abbv':abbv_ent.value,\n",
    "    'note_defination':def_ent.value\n",
    "}\n",
    "note_df = pd.DataFrame([note_dict],columns=note_dict.keys())\n",
    "temp_df = pd.merge(notes_in_db,note_df,on='note_abbv',how='inner')\n",
    "# checking to see if abbreviation is already used / double checking entry\n",
    "if temp_df.shape[0] > 0:\n",
    "    print(\"Abbreviation already in use\")\n",
    "else:\n",
    "    print(note_df)"
   ]
  },
  {
   "source": [
    "If the above note is correct please run the next cell"
   ],
   "cell_type": "markdown",
   "metadata": {}
  },
  {
   "cell_type": "code",
   "execution_count": null,
   "metadata": {},
   "outputs": [],
   "source": [
    "golf_functions.load_sql(note_df,'Scores','note_definations')"
   ]
  },
  {
   "cell_type": "code",
   "execution_count": null,
   "metadata": {},
   "outputs": [],
   "source": []
  }
 ]
}