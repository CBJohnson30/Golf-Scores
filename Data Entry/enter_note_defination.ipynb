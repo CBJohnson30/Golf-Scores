{
 "metadata": {
  "language_info": {
   "codemirror_mode": {
    "name": "ipython",
    "version": 3
   },
   "file_extension": ".py",
   "mimetype": "text/x-python",
   "name": "python",
   "nbconvert_exporter": "python",
   "pygments_lexer": "ipython3",
   "version": "3.7.6"
  },
  "orig_nbformat": 2,
  "kernelspec": {
   "name": "python376jvsc74a57bd0b3ba2566441a7c06988d0923437866b63cedc61552a5af99d1f4fb67d367b25f",
   "display_name": "Python 3.7.6 64-bit ('base': conda)"
  }
 },
 "nbformat": 4,
 "nbformat_minor": 2,
 "cells": [
  {
   "cell_type": "code",
   "execution_count": 1,
   "metadata": {},
   "outputs": [],
   "source": [
    "import pandas as pd \n",
    "import ipywidgets as widgets\n",
    "import datetime\n",
    "import sqlalchemy\n",
    "import psycopg2\n",
    "import golf_functions"
   ]
  },
  {
   "cell_type": "code",
   "execution_count": 2,
   "metadata": {},
   "outputs": [],
   "source": [
    "note_query = '''\n",
    "Select * from \"Scores\".\"note_definations\"\n",
    "'''"
   ]
  },
  {
   "cell_type": "code",
   "execution_count": 19,
   "metadata": {},
   "outputs": [],
   "source": [
    "notes_in_db = golf_functions.pull_from_sql(note_query)"
   ]
  },
  {
   "cell_type": "code",
   "execution_count": 20,
   "metadata": {},
   "outputs": [
    {
     "output_type": "execute_result",
     "data": {
      "text/plain": [
       "    note_id                note note_abbv          note_defination\n",
       "0         1        Bad Approach        BA    Bad shot into a green\n",
       "1         2         Missed Putt        MP              Missed Putt\n",
       "2         3           Lost Ball        LB      Lost Ball on Course\n",
       "3         4           Bad Drive        BD                Bad Drive\n",
       "4         5  Double Chip - Sand       DCS  Double Chip out of Sand\n",
       "5         6          Water Ball        WB       Lost Ball in Water\n",
       "6         7         Double Chip        DC              Double Chip\n",
       "7         8          Three Putt        TP               Three Putt\n",
       "8         9       Out of Bounds        OB            Out of Bounds\n",
       "9        10            Bad Chip        BC                 Bad Chip\n",
       "10       11             No Note       N/A       No Note to Mention"
      ],
      "text/html": "<div>\n<style scoped>\n    .dataframe tbody tr th:only-of-type {\n        vertical-align: middle;\n    }\n\n    .dataframe tbody tr th {\n        vertical-align: top;\n    }\n\n    .dataframe thead th {\n        text-align: right;\n    }\n</style>\n<table border=\"1\" class=\"dataframe\">\n  <thead>\n    <tr style=\"text-align: right;\">\n      <th></th>\n      <th>note_id</th>\n      <th>note</th>\n      <th>note_abbv</th>\n      <th>note_defination</th>\n    </tr>\n  </thead>\n  <tbody>\n    <tr>\n      <th>0</th>\n      <td>1</td>\n      <td>Bad Approach</td>\n      <td>BA</td>\n      <td>Bad shot into a green</td>\n    </tr>\n    <tr>\n      <th>1</th>\n      <td>2</td>\n      <td>Missed Putt</td>\n      <td>MP</td>\n      <td>Missed Putt</td>\n    </tr>\n    <tr>\n      <th>2</th>\n      <td>3</td>\n      <td>Lost Ball</td>\n      <td>LB</td>\n      <td>Lost Ball on Course</td>\n    </tr>\n    <tr>\n      <th>3</th>\n      <td>4</td>\n      <td>Bad Drive</td>\n      <td>BD</td>\n      <td>Bad Drive</td>\n    </tr>\n    <tr>\n      <th>4</th>\n      <td>5</td>\n      <td>Double Chip - Sand</td>\n      <td>DCS</td>\n      <td>Double Chip out of Sand</td>\n    </tr>\n    <tr>\n      <th>5</th>\n      <td>6</td>\n      <td>Water Ball</td>\n      <td>WB</td>\n      <td>Lost Ball in Water</td>\n    </tr>\n    <tr>\n      <th>6</th>\n      <td>7</td>\n      <td>Double Chip</td>\n      <td>DC</td>\n      <td>Double Chip</td>\n    </tr>\n    <tr>\n      <th>7</th>\n      <td>8</td>\n      <td>Three Putt</td>\n      <td>TP</td>\n      <td>Three Putt</td>\n    </tr>\n    <tr>\n      <th>8</th>\n      <td>9</td>\n      <td>Out of Bounds</td>\n      <td>OB</td>\n      <td>Out of Bounds</td>\n    </tr>\n    <tr>\n      <th>9</th>\n      <td>10</td>\n      <td>Bad Chip</td>\n      <td>BC</td>\n      <td>Bad Chip</td>\n    </tr>\n    <tr>\n      <th>10</th>\n      <td>11</td>\n      <td>No Note</td>\n      <td>N/A</td>\n      <td>No Note to Mention</td>\n    </tr>\n  </tbody>\n</table>\n</div>"
     },
     "metadata": {},
     "execution_count": 20
    }
   ],
   "source": [
    "notes_in_db"
   ]
  },
  {
   "cell_type": "code",
   "execution_count": 12,
   "metadata": {},
   "outputs": [],
   "source": [
    "full_name_lbl = widgets.Label('Note Full Name')\n",
    "full_name_ent = widgets.Text()\n",
    "abbv_lbl = widgets.Label('Note Abbreviation')\n",
    "abbv_ent = widgets.Text()\n",
    "def_lbl = widgets.Label('Note Defination')\n",
    "def_ent = widgets.Text()"
   ]
  },
  {
   "cell_type": "code",
   "execution_count": 15,
   "metadata": {},
   "outputs": [
    {
     "output_type": "display_data",
     "data": {
      "text/plain": "Label(value='Note Full Name')",
      "application/vnd.jupyter.widget-view+json": {
       "version_major": 2,
       "version_minor": 0,
       "model_id": "d15e46be78ba48e7951549a136c331aa"
      }
     },
     "metadata": {}
    },
    {
     "output_type": "display_data",
     "data": {
      "text/plain": "Text(value='')",
      "application/vnd.jupyter.widget-view+json": {
       "version_major": 2,
       "version_minor": 0,
       "model_id": "027c303eceea419a9913c29d8f99cff2"
      }
     },
     "metadata": {}
    },
    {
     "output_type": "display_data",
     "data": {
      "text/plain": "Label(value='Note Abbreviation')",
      "application/vnd.jupyter.widget-view+json": {
       "version_major": 2,
       "version_minor": 0,
       "model_id": "e3b69a144ae5438189cbc145e4a1b942"
      }
     },
     "metadata": {}
    },
    {
     "output_type": "display_data",
     "data": {
      "text/plain": "Text(value='')",
      "application/vnd.jupyter.widget-view+json": {
       "version_major": 2,
       "version_minor": 0,
       "model_id": "892544f670b943e88427716f9f515a9a"
      }
     },
     "metadata": {}
    },
    {
     "output_type": "display_data",
     "data": {
      "text/plain": "Label(value='Note Defination')",
      "application/vnd.jupyter.widget-view+json": {
       "version_major": 2,
       "version_minor": 0,
       "model_id": "f326c2bf48fb46aeb2577611d1d3897c"
      }
     },
     "metadata": {}
    },
    {
     "output_type": "display_data",
     "data": {
      "text/plain": "Text(value='')",
      "application/vnd.jupyter.widget-view+json": {
       "version_major": 2,
       "version_minor": 0,
       "model_id": "133b88cbd9d64096a33d37f131c3b120"
      }
     },
     "metadata": {}
    }
   ],
   "source": [
    "display(full_name_lbl)\n",
    "display(full_name_ent)\n",
    "display(abbv_lbl)\n",
    "display(abbv_ent)\n",
    "display(def_lbl)\n",
    "display(def_ent)"
   ]
  },
  {
   "cell_type": "code",
   "execution_count": 16,
   "metadata": {},
   "outputs": [],
   "source": [
    "note_dict = {\n",
    "    'note':full_name_ent.value,\n",
    "    'note_abbv':abbv_ent.value,\n",
    "    'note_defination':def_ent.value\n",
    "}"
   ]
  },
  {
   "cell_type": "code",
   "execution_count": 17,
   "metadata": {},
   "outputs": [
    {
     "output_type": "stream",
     "name": "stdout",
     "text": [
      "      note note_abbv     note_defination\n0  No Note       N/A  No Note to Mention\n"
     ]
    }
   ],
   "source": [
    "note_df = pd.DataFrame([note_dict],columns=note_dict.keys())\n",
    "temp_df = pd.merge(notes_in_db,note_df,on='note_abbv',how='inner')\n",
    "if temp_df.shape[0] > 0:\n",
    "    print(\"Abbreviation already in use\")\n",
    "else:\n",
    "    print(note_df)"
   ]
  },
  {
   "source": [
    "If the above note is correct please run the next cell"
   ],
   "cell_type": "markdown",
   "metadata": {}
  },
  {
   "cell_type": "code",
   "execution_count": 18,
   "metadata": {},
   "outputs": [
    {
     "output_type": "stream",
     "name": "stdout",
     "text": [
      "Data Loaded Successfully\n"
     ]
    },
    {
     "output_type": "execute_result",
     "data": {
      "text/plain": [
       "'END'"
      ]
     },
     "metadata": {},
     "execution_count": 18
    }
   ],
   "source": [
    "golf_functions.load_sql(note_df,'Scores','note_definations')"
   ]
  },
  {
   "cell_type": "code",
   "execution_count": null,
   "metadata": {},
   "outputs": [],
   "source": []
  }
 ]
}