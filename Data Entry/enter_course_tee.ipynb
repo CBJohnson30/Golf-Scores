{
 "metadata": {
  "language_info": {
   "codemirror_mode": {
    "name": "ipython",
    "version": 3
   },
   "file_extension": ".py",
   "mimetype": "text/x-python",
   "name": "python",
   "nbconvert_exporter": "python",
   "pygments_lexer": "ipython3",
   "version": "3.7.6"
  },
  "orig_nbformat": 2,
  "kernelspec": {
   "name": "python3",
   "display_name": "Python 3.7.6 64-bit"
  },
  "interpreter": {
   "hash": "b3ba2566441a7c06988d0923437866b63cedc61552a5af99d1f4fb67d367b25f"
  }
 },
 "nbformat": 4,
 "nbformat_minor": 2,
 "cells": [
  {
   "cell_type": "code",
   "execution_count": 1,
   "source": [
    "import pandas as pd \r\n",
    "import ipywidgets as widgets\r\n",
    "import datetime\r\n",
    "import sqlalchemy\r\n",
    "import psycopg2\r\n",
    "import golf_functions"
   ],
   "outputs": [],
   "metadata": {}
  },
  {
   "cell_type": "markdown",
   "source": [
    "This notebook is to add golf course tee infromation. Tee information will be stored in the course_tee and hole_info table.\r\n",
    "\r\n",
    "To enter new course tee information you will need:\r\n",
    "- par\r\n",
    "- tee\r\n",
    "- total_distance\r\n",
    "- F9_distance\r\n",
    "- B9_distance\r\n",
    "- rating\r\n",
    "- slope\r\n",
    "- for each hole\r\n",
    "    - par\r\n",
    "    - distance\r\n",
    "    - handicap"
   ],
   "metadata": {}
  },
  {
   "cell_type": "code",
   "execution_count": null,
   "source": [
    "course_select_query = '''\r\n",
    "Select cn.course_id\r\n",
    "    ,cn.course_name\r\n",
    "    ,cv.course_version_id\r\n",
    "from \"Courses\".\"course_name\" as cn\r\n",
    "left join (select course_id, MAX(course_version_id) as course_version_id from \"Courses\".\"course_version\" group by course_id) as cv on cn.course_id = cast(cv.course_id as int)\r\n",
    "'''"
   ],
   "outputs": [],
   "metadata": {}
  },
  {
   "cell_type": "code",
   "execution_count": null,
   "source": [
    "courses = golf_functions.pull_from_sql(course_select_query)"
   ],
   "outputs": [],
   "metadata": {}
  },
  {
   "cell_type": "code",
   "execution_count": null,
   "source": [
    "course_list = list(courses['course_name'])\r\n",
    "course_list.sort()\r\n",
    "course_select = widgets.Dropdown(options = course_list)\r\n",
    "course_select"
   ],
   "outputs": [],
   "metadata": {}
  },
  {
   "cell_type": "code",
   "execution_count": null,
   "source": [
    "course_info_entry = courses[courses['course_name'] == course_select.value]"
   ],
   "outputs": [],
   "metadata": {}
  },
  {
   "cell_type": "code",
   "execution_count": null,
   "source": [
    "par_lbl = widgets.Label('Par')\r\n",
    "par_ent = widgets.Text()\r\n",
    "tee_lbl = widgets.Label('Tee Name')\r\n",
    "tee_ent = widgets.Text()\r\n",
    "total_distance_lbl = widgets.Label('Total Distance')\r\n",
    "total_distance_ent = widgets.IntText()\r\n",
    "F9_distance_lbl = widgets.Label('Front 9 Distance')\r\n",
    "F9_disance_ent = widgets.IntText()\r\n",
    "B9_distance_lbl = widgets.Label('Back 9 Distance')\r\n",
    "B9_distance_ent = widgets.IntText()\r\n",
    "rating_lbl = widgets.Label('Rating')\r\n",
    "rating_ent = widgets.FloatText()\r\n",
    "slope_lbl = widgets.Label('Slope')\r\n",
    "slope_ent = widgets.IntText()"
   ],
   "outputs": [],
   "metadata": {}
  },
  {
   "cell_type": "code",
   "execution_count": null,
   "source": [
    "display(par_lbl)\r\n",
    "display(par_ent)\r\n",
    "display(tee_lbl)\r\n",
    "display(tee_ent)\r\n",
    "display(total_distance_lbl)\r\n",
    "display(total_distance_ent)\r\n",
    "display(F9_distance_lbl)\r\n",
    "display(F9_disance_ent)\r\n",
    "display(B9_distance_lbl)\r\n",
    "display(B9_distance_ent)\r\n",
    "display(rating_lbl)\r\n",
    "display(rating_ent)\r\n",
    "display(slope_lbl)\r\n",
    "display(slope_ent)"
   ],
   "outputs": [],
   "metadata": {}
  },
  {
   "cell_type": "code",
   "execution_count": null,
   "source": [
    "course_info_dict = {\r\n",
    "    'total_par':par_ent.value,\r\n",
    "    'tee':tee_ent.value,\r\n",
    "    'total_distance':total_distance_ent.value,\r\n",
    "    'f9_distance':F9_disance_ent.value,\r\n",
    "    'b9_distance':B9_distance_ent.value,\r\n",
    "    'rating':rating_ent.value,\r\n",
    "    'slope':slope_ent.value,\r\n",
    "    'course_name':course_select.value\r\n",
    "}\r\n",
    "df = pd.DataFrame([course_info_dict],columns=course_info_dict.keys())\r\n",
    "course_tee_df = pd.merge(course_info_entry,df, on='course_name')\r\n",
    "print('Is the correct course information')\r\n",
    "course_tee_df"
   ],
   "outputs": [],
   "metadata": {}
  },
  {
   "cell_type": "markdown",
   "source": [
    "If the above course information is correct please run the next cell. "
   ],
   "metadata": {}
  },
  {
   "cell_type": "code",
   "execution_count": null,
   "source": [
    "num_holes = widgets.IntText()\r\n",
    "num_holes"
   ],
   "outputs": [],
   "metadata": {}
  },
  {
   "cell_type": "code",
   "execution_count": null,
   "source": [
    "for h in range(1,num_holes.value + 1):\r\n",
    "    globals()['par_%s' % h + '_lbl'] = widgets.Label('par')\r\n",
    "    globals()['par_%s' % h + '_ent'] = widgets.Text()\r\n",
    "    globals()['distance_%s' % h + '_lbl'] = widgets.Label('distance')\r\n",
    "    globals()['distance_%s' % h + '_ent'] = widgets.IntText()\r\n",
    "    globals()['handicap_%s' % h + '_lbl'] = widgets.Label('Course Handicap')\r\n",
    "    globals()['handicap_%s' % h + '_ent'] = widgets.Text()\r\n",
    "    display(widgets.Label('For Hole - ' + str(h)))\r\n",
    "    display(globals()['par_%s' % h + '_lbl'])\r\n",
    "    display(globals()['par_%s' % h + '_ent'])\r\n",
    "    display(globals()['distance_%s' % h + '_lbl'])\r\n",
    "    display(globals()['distance_%s' % h + '_ent'])\r\n",
    "    display(globals()['handicap_%s' % h + '_lbl'])\r\n",
    "    display(globals()['handicap_%s' % h + '_ent'])"
   ],
   "outputs": [],
   "metadata": {}
  },
  {
   "cell_type": "code",
   "execution_count": null,
   "source": [
    "hole_list = []\r\n",
    "par_list = []\r\n",
    "distance_list = []\r\n",
    "handicap_list = []\r\n",
    "for h in range(1,num_holes.value + 1):\r\n",
    "    hole_list.append(str(h))\r\n",
    "    par_list.append(globals().get('par_%s' % h + '_ent').value)\r\n",
    "    distance_list.append(globals().get('distance_%s' % h + '_ent').value)\r\n",
    "    handicap_list.append(globals().get('handicap_%s' % h + '_ent').value)\r\n",
    "\r\n",
    "hole_info_dict = {\r\n",
    "    'hole':hole_list,\r\n",
    "    'par':par_list,\r\n",
    "    'distance':distance_list,\r\n",
    "    'handicap':handicap_list\r\n",
    "}\r\n",
    "hole_info = pd.DataFrame(hole_info_dict,columns=hole_info_dict.keys())"
   ],
   "outputs": [],
   "metadata": {}
  },
  {
   "cell_type": "code",
   "execution_count": null,
   "source": [
    "course_tee_df"
   ],
   "outputs": [],
   "metadata": {}
  },
  {
   "cell_type": "code",
   "execution_count": null,
   "source": [
    "hole_info"
   ],
   "outputs": [],
   "metadata": {}
  },
  {
   "cell_type": "markdown",
   "source": [
    "If the above information is correct run the cell below"
   ],
   "metadata": {}
  },
  {
   "cell_type": "code",
   "execution_count": null,
   "source": [
    "schema = '\"Courses\"'\r\n",
    "procedure = 'add_new_course_tee'\r\n",
    "for h in range(0,hole_info.shape[0]):\r\n",
    "    values = (\r\n",
    "        course_tee_df[\"course_id\"][0],\r\n",
    "        course_tee_df[\"total_par\"][0],\r\n",
    "        course_tee_df[\"tee\"][0],\r\n",
    "        course_tee_df[\"total_distance\"][0],\r\n",
    "        course_tee_df[\"f9_distance\"][0],\r\n",
    "        course_tee_df[\"b9_distance\"][0],\r\n",
    "        course_tee_df[\"rating\"][0],\r\n",
    "        course_tee_df[\"slope\"][0],\r\n",
    "        course_tee_df[\"course_version_id\"][0],\r\n",
    "        hole_info[\"hole\"][h],\r\n",
    "        hole_info[\"par\"][h],\r\n",
    "        hole_info[\"distance\"][h],\r\n",
    "        hole_info[\"handicap\"][h]\r\n",
    "    )\r\n",
    "    golf_functions.load_procedure(schema, procedure, values)"
   ],
   "outputs": [],
   "metadata": {}
  },
  {
   "cell_type": "code",
   "execution_count": null,
   "source": [],
   "outputs": [],
   "metadata": {}
  }
 ]
}