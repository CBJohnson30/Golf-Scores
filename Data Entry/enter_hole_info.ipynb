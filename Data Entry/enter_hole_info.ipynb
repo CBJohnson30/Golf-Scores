{
 "metadata": {
  "language_info": {
   "codemirror_mode": {
    "name": "ipython",
    "version": 3
   },
   "file_extension": ".py",
   "mimetype": "text/x-python",
   "name": "python",
   "nbconvert_exporter": "python",
   "pygments_lexer": "ipython3",
   "version": "3.7.6"
  },
  "orig_nbformat": 2,
  "kernelspec": {
   "name": "python376jvsc74a57bd0b3ba2566441a7c06988d0923437866b63cedc61552a5af99d1f4fb67d367b25f",
   "display_name": "Python 3.7.6 64-bit ('base': conda)"
  }
 },
 "nbformat": 4,
 "nbformat_minor": 2,
 "cells": [
  {
   "cell_type": "code",
   "execution_count": null,
   "metadata": {},
   "outputs": [],
   "source": [
    "import pandas as pd \n",
    "import ipywidgets as widgets\n",
    "import datetime\n",
    "import sqlalchemy\n",
    "import psycopg2\n",
    "import golf_functions"
   ]
  },
  {
   "source": [
    "This notebook is used to enter info on each hole for a course/tee. This will be entered into 'hole_info'. \n",
    "\n",
    "You will need the following info:\n",
    "- course/tee\n",
    "- number of holes\n",
    "- for each hole\n",
    "    - par\n",
    "    - distance\n",
    "    - course handicap"
   ],
   "cell_type": "markdown",
   "metadata": {}
  },
  {
   "cell_type": "code",
   "execution_count": null,
   "metadata": {},
   "outputs": [],
   "source": [
    "course_select_query = '''\n",
    "Select ci.course_id\n",
    "    ,Max(ci.course_version_id) as course_version_id\n",
    "    ,cn.course_name\n",
    "    ,ci.tee\n",
    "from \"Courses\".\"course_info\" ci \n",
    "left join \"Courses\".\"course_name\" cn on cast(ci.course_id as int) = cn.course_id\n",
    "group by ci.course_id, ci.tee, cn.course_name\n",
    "'''\n",
    "course_tee_select = golf_functions.pull_from_sql(course_select_query)\n",
    "course_tee_select['course_tee'] = course_tee_select['course_name'] + ' - ' + course_tee_select['tee']"
   ]
  },
  {
   "cell_type": "code",
   "execution_count": null,
   "metadata": {},
   "outputs": [],
   "source": [
    "# selecting the course/tee and number of holes\n",
    "ct_select = widgets.Dropdown(options = list(course_tee_select['course_tee']))\n",
    "ct_select"
   ]
  },
  {
   "cell_type": "code",
   "execution_count": null,
   "metadata": {},
   "outputs": [],
   "source": [
    "course_info = course_tee_select[course_tee_select['course_tee'] == ct_select.value]\n",
    "course_info.reset_index(inplace=True)"
   ]
  },
  {
   "cell_type": "code",
   "execution_count": null,
   "metadata": {},
   "outputs": [],
   "source": [
    "num_holes = widgets.IntText()\n",
    "num_holes"
   ]
  },
  {
   "cell_type": "code",
   "execution_count": null,
   "metadata": {},
   "outputs": [],
   "source": [
    "# starting df used in load_sql\n",
    "# only needed columns will be used later\n",
    "holes = pd.DataFrame()\n",
    "holes['hole'] = range(1,num_holes.value + 1)\n",
    "holes['course_id'] = course_info['course_id'][0]\n",
    "holes['course_version_id'] = course_info['course_version_id'][0]\n",
    "holes['course_name'] = course_info['course_name'][0]\n",
    "holes['tee'] = course_info['tee'][0]\n",
    "holes['hole']= holes['hole'].astype(str)\n",
    "holes"
   ]
  },
  {
   "cell_type": "code",
   "execution_count": null,
   "metadata": {},
   "outputs": [],
   "source": [
    "# creating labels and widgets used in entry. \n",
    "# globals() is not always the best way to creat variabls is useful in this situation is creating variabls with a four loop. The four loop reduced the lines of code needed in the notebook. \n",
    "for h in range(1,num_holes.value + 1):\n",
    "    globals()['par_%s' % h + '_lbl'] = widgets.Label('par')\n",
    "    globals()['par_%s' % h + '_ent'] = widgets.Text()\n",
    "    globals()['distance_%s' % h + '_lbl'] = widgets.Label('distance')\n",
    "    globals()['distance_%s' % h + '_ent'] = widgets.IntText()\n",
    "    globals()['handicap_%s' % h + '_lbl'] = widgets.Label('Course Handicap')\n",
    "    globals()['handicap_%s' % h + '_ent'] = widgets.Text()\n",
    "    display(widgets.Label('For Hole - ' + str(h)))\n",
    "    display(globals()['par_%s' % h + '_lbl'])\n",
    "    display(globals()['par_%s' % h + '_ent'])\n",
    "    display(globals()['distance_%s' % h + '_lbl'])\n",
    "    display(globals()['distance_%s' % h + '_ent'])\n",
    "    display(globals()['handicap_%s' % h + '_lbl'])\n",
    "    display(globals()['handicap_%s' % h + '_ent'])"
   ]
  },
  {
   "cell_type": "code",
   "execution_count": null,
   "metadata": {},
   "outputs": [],
   "source": [
    "# creating listed from widgets entered info\n",
    "hole_list = []\n",
    "par_list = []\n",
    "distance_list = []\n",
    "handicap_list = []\n",
    "for h in range(1,num_holes.value + 1):\n",
    "    hole_list.append(str(h))\n",
    "    par_list.append(globals().get('par_%s' % h + '_ent').value)\n",
    "    distance_list.append(globals().get('distance_%s' % h + '_ent').value)\n",
    "    handicap_list.append(globals().get('handicap_%s' % h + '_ent').value)\n",
    "# creating df needed for load_sql\n",
    "hole_info_dict = {\n",
    "    'hole':hole_list,\n",
    "    'par':par_list,\n",
    "    'distance':distance_list,\n",
    "    'handicap':handicap_list\n",
    "}"
   ]
  },
  {
   "cell_type": "code",
   "execution_count": null,
   "metadata": {},
   "outputs": [],
   "source": [
    "# merging new df and df made above. Selecting info needed for hole_info table\n",
    "hole_info = pd.merge(holes,pd.DataFrame(hole_info_dict,columns=hole_info_dict.keys()), on='hole')\n",
    "print('Is the Course Hole information correct?')\n",
    "print(hole_info['course_name'][0])\n",
    "hole_info.drop('course_name', axis=1, inplace=True)\n",
    "# double checking date entry\n",
    "hole_info"
   ]
  },
  {
   "source": [
    "If the above infromation is correct please run the cell below"
   ],
   "cell_type": "markdown",
   "metadata": {}
  },
  {
   "cell_type": "code",
   "execution_count": null,
   "metadata": {},
   "outputs": [],
   "source": [
    "golf_functions.load_sql(hole_info, 'Courses', 'hole_info')"
   ]
  },
  {
   "cell_type": "code",
   "execution_count": null,
   "metadata": {},
   "outputs": [],
   "source": []
  }
 ]
}