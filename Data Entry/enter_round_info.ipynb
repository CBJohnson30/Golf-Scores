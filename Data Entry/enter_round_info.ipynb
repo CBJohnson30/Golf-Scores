{
 "metadata": {
  "language_info": {
   "codemirror_mode": {
    "name": "ipython",
    "version": 3
   },
   "file_extension": ".py",
   "mimetype": "text/x-python",
   "name": "python",
   "nbconvert_exporter": "python",
   "pygments_lexer": "ipython3",
   "version": "3.7.6"
  },
  "orig_nbformat": 2,
  "kernelspec": {
   "name": "python3",
   "display_name": "Python 3.7.6 64-bit ('base': conda)"
  },
  "interpreter": {
   "hash": "b3ba2566441a7c06988d0923437866b63cedc61552a5af99d1f4fb67d367b25f"
  }
 },
 "nbformat": 4,
 "nbformat_minor": 2,
 "cells": [
  {
   "cell_type": "code",
   "execution_count": null,
   "metadata": {},
   "outputs": [],
   "source": [
    "import pandas as pd \n",
    "import ipywidgets as widgets\n",
    "import datetime\n",
    "import sqlalchemy\n",
    "import psycopg2\n",
    "import golf_functions"
   ]
  },
  {
   "source": [
    "This notebook is used to load all info about a played round of golf. This info will be loaded into round_info and hole_scores. \n",
    "\n",
    "For these tables you will need:\n",
    "- course/tee played\n",
    "- date played\n",
    "- weather played in\n",
    "- number of holes played\n",
    "- for each hole played:\n",
    "    - score \n",
    "    - fairway in regulation\n",
    "    - fairway miss side\n",
    "    - green in regulation\n",
    "    - green miss side\n",
    "    - number of putts\n",
    "    - other notes"
   ],
   "cell_type": "markdown",
   "metadata": {}
  },
  {
   "cell_type": "code",
   "execution_count": null,
   "metadata": {},
   "outputs": [],
   "source": [
    "course_select_query = '''\n",
    "Select ci.course_id\n",
    "    ,Max(ci.course_version_id) as course_version_id\n",
    "    ,cn.course_name\n",
    "    ,ci.tee\n",
    "from \"Courses\".\"course_info\" ci \n",
    "left join \"Courses\".\"course_name\" cn on cast(ci.course_id as int) = cn.course_id\n",
    "group by ci.course_id, ci.tee, cn.course_name\n",
    "'''"
   ]
  },
  {
   "cell_type": "code",
   "execution_count": null,
   "metadata": {},
   "outputs": [],
   "source": [
    "course_tee_select = golf_functions.pull_from_sql(course_select_query)\n",
    "course_tee_select['course_tee'] = course_tee_select['course_name'] + ' - ' + course_tee_select['tee']"
   ]
  },
  {
   "cell_type": "code",
   "execution_count": null,
   "metadata": {},
   "outputs": [],
   "source": [
    "# selecting course/tee\n",
    "course_list = list(course_tee_select['course_tee'])\n",
    "course_list.sort()\n",
    "ct_select = widgets.Dropdown(options = course_list)\n",
    "ct_select"
   ]
  },
  {
   "cell_type": "code",
   "execution_count": null,
   "metadata": {},
   "outputs": [],
   "source": [
    "course_select = course_tee_select[course_tee_select['course_tee'] == ct_select.value]\n",
    "course_select.reset_index(inplace=True)"
   ]
  },
  {
   "cell_type": "code",
   "execution_count": null,
   "metadata": {},
   "outputs": [],
   "source": [
    "# labels and widgets for entry about info of the round\n",
    "weather_types = ['Sun', 'Rain', 'Snow', 'Light Breeze', 'Wind', 'Cold', 'Hot', 'NA']\n",
    "weather_types.sort()\n",
    "date_lbl = widgets.Label('Entry_date')\n",
    "date_ent = widgets.DatePicker()\n",
    "weather_lbl = widgets.Label('Weather While Playing')\n",
    "weather_ent1 = widgets.Dropdown(options = weather_types)\n",
    "weather_ent2 = widgets.Dropdown(options = weather_types)\n",
    "display(date_lbl)\n",
    "display(date_ent)\n",
    "display(weather_lbl)\n",
    "display(weather_ent1)\n",
    "display(weather_ent2)"
   ]
  },
  {
   "cell_type": "code",
   "execution_count": null,
   "metadata": {},
   "outputs": [],
   "source": [
    "round_info = course_select.loc[:,('course_id', 'course_version_id', 'tee')]\n",
    "round_info['date_played'] = date_ent.value.strftime('%Y-%m-%d')\n",
    "if weather_ent2.value != 'NA':\n",
    "    weather_entry = weather_ent1.value +'/'+ weather_ent2.value\n",
    "else:\n",
    "    weather_entry = weather_ent1.value\n",
    "round_info['weather'] = weather_entry\n",
    "# previewing round_info\n",
    "round_info"
   ]
  },
  {
   "cell_type": "code",
   "execution_count": null,
   "metadata": {},
   "outputs": [],
   "source": [
    "# selecting round length\n",
    "round_length  = ['Full 18', 'Front 9', 'Back 9']\n",
    "length_select = widgets.Dropdown(options = round_length)\n",
    "length_select"
   ]
  },
  {
   "cell_type": "code",
   "execution_count": null,
   "metadata": {},
   "outputs": [],
   "source": [
    "# pulling hole info about holes that were played\n",
    "if length_select.value == 'Full 18':\n",
    "    holes_select = '1 and 18'\n",
    "    hole_range = [1,19]\n",
    "elif length_select.value == 'Front 9':\n",
    "    holes_select = '1 and 9'\n",
    "    hole_range = [1,10]\n",
    "elif length_select.value == 'Back 9':\n",
    "    holes_select = '10 and 18'\n",
    "    hole_range = [10,19]\n",
    "holes_played_query = '''\n",
    "Select * from \"Courses\".\"hole_info\"\n",
    "where course_id = {0} and tee = {1} and cast(hole as int) between {2};\n",
    "'''.format(\"'\"+course_select['course_id'][0]+\"'\",\n",
    "            \"'\"+course_select['tee'][0]+\"'\",\n",
    "            holes_select)\n",
    "hole_played = golf_functions.pull_from_sql(holes_played_query)\n",
    "hole_played"
   ]
  },
  {
   "cell_type": "code",
   "execution_count": null,
   "metadata": {},
   "outputs": [],
   "source": [
    "#pulling notes and creating lists for entry selection\n",
    "note_query = '''\n",
    "Select note, note_abbv from \"Scores\".\"note_definations\"\n",
    "'''\n",
    "notes = golf_functions.pull_from_sql(note_query)\n",
    "notes_name = list(notes['note'])\n",
    "notes_name.sort()\n",
    "miss_list = ['Y', 'N', 'NA']\n",
    "miss_way_list = ['Right', 'Left', 'Short', 'Long', 'NA']"
   ]
  },
  {
   "cell_type": "code",
   "execution_count": null,
   "metadata": {},
   "outputs": [],
   "source": [
    "# creating labels and widgets for data entry\n",
    "# used globals to create variables with different names within a four loop. \n",
    "for h in range(0,hole_played.shape[0]):\n",
    "    temp_df = hole_played.loc[h]\n",
    "    globals()['header_%s' % h + '_lbl'] = widgets.Label('Hole '+temp_df['hole']+ ' Par '+temp_df['par'])\n",
    "    globals()['score_%s' % h + '_lbl'] = widgets.Label('Score')\n",
    "    globals()['score_%s' % h + '_ent'] = widgets.IntText(value = int(temp_df['par']))\n",
    "    globals()['FIR_%s' % h + '_lbl'] = widgets.Label('Fairway in Regulation')\n",
    "    globals()['FIR_%s' % h + '_ent'] = widgets.Dropdown(options = miss_list, value = None)\n",
    "    globals()['FIR_ms_%s' % h + '_lbl'] = widgets.Label('Fairway in Regulation Miss Side')\n",
    "    globals()['FIR_ms_%s' % h + '_ent'] = widgets.Dropdown(options = miss_way_list, value = None)\n",
    "    globals()['GIR_%s' % h + '_lbl'] = widgets.Label('Green in Regulation')\n",
    "    globals()['GIR_%s' % h + '_ent'] = widgets.Dropdown(options = miss_list, value = None)\n",
    "    globals()['GIR_ms_%s' % h + '_lbl'] = widgets.Label('Green in Regulation Miss Side')\n",
    "    globals()['GIR_ms_%s' % h + '_ent'] = widgets.Dropdown(options = miss_way_list, value = None)\n",
    "    globals()['putts_%s' % h + '_lbl'] = widgets.Label('Number of Putts')\n",
    "    globals()['putts_%s' % h + '_ent'] = widgets.IntText()\n",
    "    globals()['notes_%s' % h + '_lbl'] = widgets.Label('Notes')\n",
    "    globals()['notes_1_%s' % h + '_ent'] = widgets.Dropdown(options = notes_name, value = 'No Note')\n",
    "    globals()['notes_2_%s' % h + '_ent'] = widgets.Dropdown(options = notes_name, value = 'No Note')\n",
    "    globals()['hole_%s' % h + '_ent'] = temp_df['hole']\n",
    "    globals()['par_%s' % h + '_ent'] = temp_df['par']\n",
    "    display(globals()['header_%s' % h + '_lbl'])\n",
    "    display(globals()['score_%s' % h + '_lbl'])\n",
    "    display(globals()['score_%s' % h + '_ent'])\n",
    "    display(globals()['FIR_%s' % h + '_lbl'])\n",
    "    display(globals()['FIR_%s' % h + '_ent'])\n",
    "    display(globals()['FIR_ms_%s' % h + '_lbl'])\n",
    "    display(globals()['FIR_ms_%s' % h + '_ent'])\n",
    "    display(globals()['GIR_%s' % h + '_lbl'])\n",
    "    display(globals()['GIR_%s' % h + '_ent'])\n",
    "    display(globals()['GIR_ms_%s' % h + '_lbl'])\n",
    "    display(globals()['GIR_ms_%s' % h + '_ent'])\n",
    "    display(globals()['putts_%s' % h + '_lbl'])\n",
    "    display(globals()['putts_%s' % h + '_ent'])\n",
    "    display(globals()['notes_%s' % h + '_lbl'])\n",
    "    display(globals()['notes_1_%s' % h + '_ent'])\n",
    "    display(globals()['notes_2_%s' % h + '_ent'])"
   ]
  },
  {
   "cell_type": "code",
   "execution_count": null,
   "metadata": {},
   "outputs": [],
   "source": [
    "# creating lists of date entered for dict\n",
    "hole_list = []\n",
    "par_list = []\n",
    "score_list = []\n",
    "FIR_list = []\n",
    "FIR_miss_list = []\n",
    "GIR_list = []\n",
    "GIR_miss_list = []\n",
    "putts_list = []\n",
    "notes_1_list = []\n",
    "notes_2_list = []\n",
    "for h in range(0,hole_played.shape[0]):\n",
    "    hole_list.append(globals().get('hole_%s' % h + '_ent'))\n",
    "    par_list.append(globals().get('par_%s' % h + '_ent'))\n",
    "    score_list.append(globals().get('score_%s' % h + '_ent').value)\n",
    "    FIR_list.append(globals().get('FIR_%s' % h + '_ent').value)\n",
    "    FIR_miss_list.append(globals().get('FIR_ms_%s' % h + '_ent').value)\n",
    "    GIR_list.append(globals().get('GIR_%s' % h + '_ent').value)\n",
    "    GIR_miss_list.append(globals().get('GIR_ms_%s' % h + '_ent').value)\n",
    "    putts_list.append(globals().get('putts_%s' % h + '_ent').value)\n",
    "    notes_1_list.append(globals().get('notes_1_%s' % h + '_ent').value)\n",
    "    notes_2_list.append(globals().get('notes_2_%s' % h + '_ent').value)\n",
    "# creating dict and df of data entered\n",
    "hole_played_dict = {\n",
    "    'hole_number':hole_list,\n",
    "    'par':par_list,\n",
    "    'score':score_list,\n",
    "    'fir':FIR_list,\n",
    "    'f_miss_side':FIR_miss_list,\n",
    "    'gir':GIR_list,\n",
    "    'g_miss_side':GIR_miss_list,\n",
    "    'putts':putts_list,\n",
    "    'note_1':notes_1_list,\n",
    "    'note_2':notes_2_list\n",
    "}\n",
    "# updating and creating new columns off of od entered data\n",
    "hole_scores = pd.DataFrame(hole_played_dict,columns=hole_played_dict.keys())\n",
    "hole_scores['score_to_par'] = hole_scores['score'] - hole_scores['par'].astype(int)\n",
    "for col in ['note_1', 'note_2']:\n",
    "    hole_scores[col] = hole_scores[col].map(pd.Series(notes['note_abbv'].values, index=notes['note']).to_dict())\n",
    "# first check to make sure data entered correctly\n",
    "hole_scores"
   ]
  },
  {
   "cell_type": "code",
   "execution_count": null,
   "metadata": {},
   "outputs": [],
   "source": [
    "round_info['date_played'] = pd.to_datetime(round_info['date_played'])\n",
    "round_info.rename(columns= {'tee':'tee_played'}, inplace=True)\n",
    "print('Please Check that Round Infromation is Correct')\n",
    "# double checking round info is correct\n",
    "round_info"
   ]
  },
  {
   "source": [
    "If the Infromation above is correct please run the next cell"
   ],
   "cell_type": "markdown",
   "metadata": {}
  },
  {
   "cell_type": "code",
   "execution_count": null,
   "metadata": {},
   "outputs": [],
   "source": [
    "golf_functions.load_sql(round_info,'Scores','round_info')"
   ]
  },
  {
   "cell_type": "code",
   "execution_count": null,
   "metadata": {},
   "outputs": [],
   "source": [
    "# sql query is needed to get round_id that is made when round_info in inserted\n",
    "round_id_query = '''\n",
    "Select MAX(round_id) as round_id from \"Scores\".\"round_info\"\n",
    "where course_id = {0} and cast(date_played as date) = {1}\n",
    "'''.format(\"'\"+round_info['course_id'][0]+\"'\", \"'\"+date_ent.value.strftime('%Y-%m-%d')+\"'\")\n",
    "round_id_df = golf_functions.pull_from_sql(round_id_query)\n",
    "hole_scores['round_id'] = round_id_df['round_id'][0].astype(str)\n",
    "hole_scores.drop('par', axis=1, inplace=True)\n",
    "print('Please Check the Below Hole Score Infromation')\n",
    "# double checking entered info is correct\n",
    "hole_scores"
   ]
  },
  {
   "source": [
    "If the Above Infromation is Correct Please Run the Next Cell"
   ],
   "cell_type": "markdown",
   "metadata": {}
  },
  {
   "cell_type": "code",
   "execution_count": null,
   "metadata": {},
   "outputs": [],
   "source": [
    "golf_functions.load_sql(hole_scores, 'Scores','hole_scores')"
   ]
  },
  {
   "cell_type": "code",
   "execution_count": null,
   "metadata": {},
   "outputs": [],
   "source": []
  }
 ]
}