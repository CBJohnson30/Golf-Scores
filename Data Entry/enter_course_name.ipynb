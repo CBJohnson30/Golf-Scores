{
 "metadata": {
  "language_info": {
   "codemirror_mode": {
    "name": "ipython",
    "version": 3
   },
   "file_extension": ".py",
   "mimetype": "text/x-python",
   "name": "python",
   "nbconvert_exporter": "python",
   "pygments_lexer": "ipython3",
   "version": "3.7.6"
  },
  "orig_nbformat": 2,
  "kernelspec": {
   "name": "python3",
   "display_name": "Python 3.7.6 64-bit"
  },
  "interpreter": {
   "hash": "b3ba2566441a7c06988d0923437866b63cedc61552a5af99d1f4fb67d367b25f"
  }
 },
 "nbformat": 4,
 "nbformat_minor": 2,
 "cells": [
  {
   "cell_type": "code",
   "execution_count": 1,
   "source": [
    "import pandas as pd \r\n",
    "import ipywidgets as widgets\r\n",
    "import datetime\r\n",
    "import sqlalchemy\r\n",
    "import psycopg2\r\n",
    "import golf_functions"
   ],
   "outputs": [],
   "metadata": {}
  },
  {
   "cell_type": "markdown",
   "source": [
    "This notebook is to enter a new course in the course_name table. A course needs to be in the course_name table to be able to enter data course_info and hole_info. This will also load the course in course_version as well. \n",
    "\n",
    "To enter a new course into the course_name table you will need:\n",
    "- course name\n",
    "- city\n",
    "- state\n",
    "- address \n",
    "- zip code\n",
    "- date_added "
   ],
   "metadata": {}
  },
  {
   "cell_type": "code",
   "execution_count": null,
   "source": [
    "course_lbl = widgets.Label('Course Name')\r\n",
    "course_name_ent = widgets.Text()\r\n",
    "city_lbl = widgets.Label('City Name')\r\n",
    "city_ent = widgets.Text()\r\n",
    "state_lbl = widgets.Label('State, Full Name')\r\n",
    "state_ent = widgets.Text()\r\n",
    "address_lbl = widgets.Label('Address')\r\n",
    "address_ent = widgets.Text()\r\n",
    "zip_lbl = widgets.Label('Zip')\r\n",
    "zip_ent = widgets.Text()\r\n",
    "date_lbl = widgets.Label('Entry_date')\r\n",
    "date_ent = widgets.DatePicker()\r\n",
    "reason_lbl = widgets.Label(\"Reason Course is added/updated\")\r\n",
    "reason_ent = widgets.Text()\r\n",
    "display(course_lbl)\r\n",
    "display(course_name_ent)\r\n",
    "display(city_lbl)\r\n",
    "display(city_ent)\r\n",
    "display(state_lbl)\r\n",
    "display(state_ent)\r\n",
    "display(address_lbl)\r\n",
    "display(address_ent)\r\n",
    "display(zip_lbl)\r\n",
    "display(zip_ent)\r\n",
    "display(date_lbl)\r\n",
    "display(date_ent)\r\n",
    "display(reason_lbl)\r\n",
    "display(reason_ent)"
   ],
   "outputs": [],
   "metadata": {}
  },
  {
   "cell_type": "code",
   "execution_count": null,
   "source": [
    "course_dict = {\r\n",
    "    'course_name':course_name_ent.value, \r\n",
    "    'city':city_ent.value,\r\n",
    "    'state':state_ent.value,\r\n",
    "    'address':address_ent.value,\r\n",
    "    'zip_code':zip_ent.value,\r\n",
    "    'date_added':date_ent.value.strftime('%d-%m-%Y'),\r\n",
    "    'reason_added':reason_ent.value\r\n",
    "    }\r\n",
    "course_name_df = pd.DataFrame([course_dict],columns=course_dict.keys())\r\n",
    "course_name_df['date_added'] = pd.to_datetime(course_name_df['date_added'])\r\n",
    "print(\"Is this the correct course infromation\")\r\n",
    "course_name_df"
   ],
   "outputs": [],
   "metadata": {}
  },
  {
   "cell_type": "markdown",
   "source": [
    "If the above course name is correct please run the cell below. If not please enter the correct infromation and run the cell above again. "
   ],
   "metadata": {}
  },
  {
   "cell_type": "code",
   "execution_count": null,
   "source": [
    "schema = '\"Courses\"'\r\n",
    "procedure = 'add_new_course'\r\n",
    "values = (course_name_df[\"course_name\"][0], \r\n",
    "course_name_df[\"city\"][0], \r\n",
    "course_name_df[\"state\"][0], \r\n",
    "course_name_df[\"zip_code\"][0], \r\n",
    "course_name_df[\"address\"][0],\r\n",
    "str(course_name_df[\"date_added\"][0]), \r\n",
    "course_name_df[\"reason_added\"][0])\r\n",
    "\r\n",
    "golf_functions.load_procedure(schema, procedure, values)\r\n"
   ],
   "outputs": [],
   "metadata": {}
  },
  {
   "cell_type": "code",
   "execution_count": null,
   "source": [],
   "outputs": [],
   "metadata": {}
  }
 ]
}