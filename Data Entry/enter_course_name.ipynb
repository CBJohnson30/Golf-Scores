{
 "metadata": {
  "language_info": {
   "codemirror_mode": {
    "name": "ipython",
    "version": 3
   },
   "file_extension": ".py",
   "mimetype": "text/x-python",
   "name": "python",
   "nbconvert_exporter": "python",
   "pygments_lexer": "ipython3",
   "version": "3.7.6"
  },
  "orig_nbformat": 2,
  "kernelspec": {
   "name": "python3",
   "display_name": "Python 3.7.6 64-bit ('base': conda)"
  },
  "interpreter": {
   "hash": "b3ba2566441a7c06988d0923437866b63cedc61552a5af99d1f4fb67d367b25f"
  }
 },
 "nbformat": 4,
 "nbformat_minor": 2,
 "cells": [
  {
   "cell_type": "code",
   "execution_count": 1,
   "metadata": {},
   "outputs": [],
   "source": [
    "import pandas as pd \n",
    "import ipywidgets as widgets\n",
    "import datetime\n",
    "import sqlalchemy\n",
    "import psycopg2\n",
    "import golf_functions"
   ]
  },
  {
   "source": [
    "This notebook is to enter a new course in the course_name table. A course needs to be in the course_name table to be able to enter data course_info and hole_info. This will also load the course in course_version as well. \n",
    "\n",
    "To enter a new course into the course_name table you will need:\n",
    "- course name\n",
    "- city\n",
    "- state\n",
    "- address \n",
    "- zip code\n",
    "- date_added "
   ],
   "cell_type": "markdown",
   "metadata": {}
  },
  {
   "cell_type": "code",
   "execution_count": 2,
   "metadata": {},
   "outputs": [
    {
     "output_type": "display_data",
     "data": {
      "text/plain": "Label(value='Course Name')",
      "application/vnd.jupyter.widget-view+json": {
       "version_major": 2,
       "version_minor": 0,
       "model_id": "4c845340aa60488190cc5ecd5cca6022"
      }
     },
     "metadata": {}
    },
    {
     "output_type": "display_data",
     "data": {
      "text/plain": "Text(value='')",
      "application/vnd.jupyter.widget-view+json": {
       "version_major": 2,
       "version_minor": 0,
       "model_id": "edcdd8612b474513ae767b9d4c71738f"
      }
     },
     "metadata": {}
    },
    {
     "output_type": "display_data",
     "data": {
      "text/plain": "Label(value='City Name')",
      "application/vnd.jupyter.widget-view+json": {
       "version_major": 2,
       "version_minor": 0,
       "model_id": "656e240938e54fb88b0a8e754eb8cbe6"
      }
     },
     "metadata": {}
    },
    {
     "output_type": "display_data",
     "data": {
      "text/plain": "Text(value='')",
      "application/vnd.jupyter.widget-view+json": {
       "version_major": 2,
       "version_minor": 0,
       "model_id": "49122fa7bc1c4143be4e7577687d0f62"
      }
     },
     "metadata": {}
    },
    {
     "output_type": "display_data",
     "data": {
      "text/plain": "Label(value='State')",
      "application/vnd.jupyter.widget-view+json": {
       "version_major": 2,
       "version_minor": 0,
       "model_id": "774d2d7fd039442ea496c03fb53a1c7a"
      }
     },
     "metadata": {}
    },
    {
     "output_type": "display_data",
     "data": {
      "text/plain": "Text(value='')",
      "application/vnd.jupyter.widget-view+json": {
       "version_major": 2,
       "version_minor": 0,
       "model_id": "8aba7cdfce2f4833b1bd3729858ab5c2"
      }
     },
     "metadata": {}
    },
    {
     "output_type": "display_data",
     "data": {
      "text/plain": "Label(value='Address')",
      "application/vnd.jupyter.widget-view+json": {
       "version_major": 2,
       "version_minor": 0,
       "model_id": "eeba5fb61a864b11894ee1f574674876"
      }
     },
     "metadata": {}
    },
    {
     "output_type": "display_data",
     "data": {
      "text/plain": "Text(value='')",
      "application/vnd.jupyter.widget-view+json": {
       "version_major": 2,
       "version_minor": 0,
       "model_id": "13803e1c754e47868e24e963f4d37716"
      }
     },
     "metadata": {}
    },
    {
     "output_type": "display_data",
     "data": {
      "text/plain": "Label(value='Zip')",
      "application/vnd.jupyter.widget-view+json": {
       "version_major": 2,
       "version_minor": 0,
       "model_id": "a2023cea41934b17baf90741c0606254"
      }
     },
     "metadata": {}
    },
    {
     "output_type": "display_data",
     "data": {
      "text/plain": "Text(value='')",
      "application/vnd.jupyter.widget-view+json": {
       "version_major": 2,
       "version_minor": 0,
       "model_id": "ce02f5c9e02f4cf982103e35f8970b5a"
      }
     },
     "metadata": {}
    },
    {
     "output_type": "display_data",
     "data": {
      "text/plain": "Label(value='Entry_date')",
      "application/vnd.jupyter.widget-view+json": {
       "version_major": 2,
       "version_minor": 0,
       "model_id": "5bbff03cae6b43be9410848377abf023"
      }
     },
     "metadata": {}
    },
    {
     "output_type": "display_data",
     "data": {
      "text/plain": "DatePicker(value=None)",
      "application/vnd.jupyter.widget-view+json": {
       "version_major": 2,
       "version_minor": 0,
       "model_id": "4960b62238f046b6bcabc13efc618b27"
      }
     },
     "metadata": {}
    }
   ],
   "source": [
    "# creating labels and widgets to enter info\n",
    "# display() is used to show multiple widgets at once\n",
    "course_lbl = widgets.Label('Course Name')\n",
    "course_name_ent = widgets.Text()\n",
    "city_lbl = widgets.Label('City Name')\n",
    "city_ent = widgets.Text()\n",
    "state_lbl = widgets.Label('State')\n",
    "state_ent = widgets.Text()\n",
    "address_lbl = widgets.Label('Address')\n",
    "address_ent = widgets.Text()\n",
    "zip_lbl = widgets.Label('Zip')\n",
    "zip_ent = widgets.Text()\n",
    "date_lbl = widgets.Label('Entry_date')\n",
    "date_ent = widgets.DatePicker()\n",
    "display(course_lbl)\n",
    "display(course_name_ent)\n",
    "display(city_lbl)\n",
    "display(city_ent)\n",
    "display(state_lbl)\n",
    "display(state_ent)\n",
    "display(address_lbl)\n",
    "display(address_ent)\n",
    "display(zip_lbl)\n",
    "display(zip_ent)\n",
    "display(date_lbl)\n",
    "display(date_ent)"
   ]
  },
  {
   "cell_type": "code",
   "execution_count": 3,
   "metadata": {},
   "outputs": [
    {
     "output_type": "stream",
     "name": "stdout",
     "text": [
      "Is this the correct course infromation\n"
     ]
    },
    {
     "output_type": "execute_result",
     "data": {
      "text/plain": [
       "             course_name      city     state            address zip_code  \\\n",
       "0  Ute Creek Golf Course  Longmont  Colorado  2000 Ute Creek Dr    80504   \n",
       "\n",
       "  date_added  \n",
       "0 2021-05-18  "
      ],
      "text/html": "<div>\n<style scoped>\n    .dataframe tbody tr th:only-of-type {\n        vertical-align: middle;\n    }\n\n    .dataframe tbody tr th {\n        vertical-align: top;\n    }\n\n    .dataframe thead th {\n        text-align: right;\n    }\n</style>\n<table border=\"1\" class=\"dataframe\">\n  <thead>\n    <tr style=\"text-align: right;\">\n      <th></th>\n      <th>course_name</th>\n      <th>city</th>\n      <th>state</th>\n      <th>address</th>\n      <th>zip_code</th>\n      <th>date_added</th>\n    </tr>\n  </thead>\n  <tbody>\n    <tr>\n      <th>0</th>\n      <td>Ute Creek Golf Course</td>\n      <td>Longmont</td>\n      <td>Colorado</td>\n      <td>2000 Ute Creek Dr</td>\n      <td>80504</td>\n      <td>2021-05-18</td>\n    </tr>\n  </tbody>\n</table>\n</div>"
     },
     "metadata": {},
     "execution_count": 3
    }
   ],
   "source": [
    "# creating DF needed after making a dict\n",
    "# df is needed for the load_sql function\n",
    "course_dict = {\n",
    "    'course_name':course_name_ent.value, \n",
    "    'city':city_ent.value,\n",
    "    'state':state_ent.value,\n",
    "    'address':address_ent.value,\n",
    "    'zip_code':zip_ent.value,\n",
    "    'date_added':date_ent.value.strftime('%d-%m-%Y')\n",
    "    }\n",
    "df = pd.DataFrame([course_dict],columns=course_dict.keys())\n",
    "# needed to turn it in to a different datetime so sql will accept it\n",
    "df['date_added'] = pd.to_datetime(df['date_added'])\n",
    "print(\"Is this the correct course infromation\")\n",
    "# always double checking my entry before loading, my version of monitoring\n",
    "df"
   ]
  },
  {
   "source": [
    "If the above course name is correct please run the cell below. If not please enter the correct infromation and run the cell above again. "
   ],
   "cell_type": "markdown",
   "metadata": {}
  },
  {
   "cell_type": "code",
   "execution_count": 4,
   "metadata": {},
   "outputs": [
    {
     "output_type": "stream",
     "name": "stdout",
     "text": [
      "Data Loaded Successfully\n"
     ]
    },
    {
     "output_type": "execute_result",
     "data": {
      "text/plain": [
       "'END'"
      ]
     },
     "metadata": {},
     "execution_count": 4
    }
   ],
   "source": [
    "golf_functions.load_sql(df,'Courses','course_name')"
   ]
  },
  {
   "source": [
    "The cells below are to upload the course version"
   ],
   "cell_type": "markdown",
   "metadata": {}
  },
  {
   "cell_type": "code",
   "execution_count": 5,
   "metadata": {},
   "outputs": [
    {
     "output_type": "stream",
     "name": "stdout",
     "text": [
      "Ute Creek Golf Course\nPlease double check version infromation\n"
     ]
    },
    {
     "output_type": "execute_result",
     "data": {
      "text/plain": [
       "   course_id  date_added reason_added\n",
       "0          5  2021-05-18  First Entry"
      ],
      "text/html": "<div>\n<style scoped>\n    .dataframe tbody tr th:only-of-type {\n        vertical-align: middle;\n    }\n\n    .dataframe tbody tr th {\n        vertical-align: top;\n    }\n\n    .dataframe thead th {\n        text-align: right;\n    }\n</style>\n<table border=\"1\" class=\"dataframe\">\n  <thead>\n    <tr style=\"text-align: right;\">\n      <th></th>\n      <th>course_id</th>\n      <th>date_added</th>\n      <th>reason_added</th>\n    </tr>\n  </thead>\n  <tbody>\n    <tr>\n      <th>0</th>\n      <td>5</td>\n      <td>2021-05-18</td>\n      <td>First Entry</td>\n    </tr>\n  </tbody>\n</table>\n</div>"
     },
     "metadata": {},
     "execution_count": 5
    }
   ],
   "source": [
    "# creating entry for the course_version\n",
    "query_info = '''\n",
    "Select * from \"Courses\".\"course_name\"\n",
    "where course_name = {0} and city = {1}\n",
    "'''.format(\"'\"+course_name_ent.value+\"'\", \"'\"+city_ent.value+\"'\")\n",
    "df_version = golf_functions.pull_from_sql(query_info)\n",
    "print(df_version['course_name'][0])\n",
    "df_version = df_version[['course_id', 'date_added']]\n",
    "df_version['reason_added'] = 'First Entry'\n",
    "print('Please double check version infromation')\n",
    "df_version"
   ]
  },
  {
   "cell_type": "code",
   "execution_count": 6,
   "metadata": {},
   "outputs": [
    {
     "output_type": "stream",
     "name": "stdout",
     "text": [
      "Data Loaded Successfully\n"
     ]
    },
    {
     "output_type": "execute_result",
     "data": {
      "text/plain": [
       "'END'"
      ]
     },
     "metadata": {},
     "execution_count": 6
    }
   ],
   "source": [
    "golf_functions.load_sql(df_version,'Courses','course_version')"
   ]
  },
  {
   "cell_type": "code",
   "execution_count": null,
   "metadata": {},
   "outputs": [],
   "source": []
  }
 ]
}