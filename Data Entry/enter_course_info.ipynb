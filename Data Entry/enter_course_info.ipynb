{
 "metadata": {
  "language_info": {
   "codemirror_mode": {
    "name": "ipython",
    "version": 3
   },
   "file_extension": ".py",
   "mimetype": "text/x-python",
   "name": "python",
   "nbconvert_exporter": "python",
   "pygments_lexer": "ipython3",
   "version": "3.7.6"
  },
  "orig_nbformat": 2,
  "kernelspec": {
   "name": "python376jvsc74a57bd0b3ba2566441a7c06988d0923437866b63cedc61552a5af99d1f4fb67d367b25f",
   "display_name": "Python 3.7.6 64-bit ('base': conda)"
  }
 },
 "nbformat": 4,
 "nbformat_minor": 2,
 "cells": [
  {
   "cell_type": "code",
   "execution_count": null,
   "metadata": {},
   "outputs": [],
   "source": [
    "import pandas as pd \n",
    "import ipywidgets as widgets\n",
    "import datetime\n",
    "import sqlalchemy\n",
    "import psycopg2\n",
    "import golf_functions"
   ]
  },
  {
   "source": [
    "This notebook is to add golf course tee infromation. Tee infromation for a course will need to be in the course_info table to add hole infromation for the course. \n",
    "\n",
    "To enter new course tee information you will need:\n",
    "- par\n",
    "- tee\n",
    "- total_distance\n",
    "- F9_distance\n",
    "- B9_distance\n",
    "- rating\n",
    "- slope"
   ],
   "cell_type": "markdown",
   "metadata": {}
  },
  {
   "cell_type": "code",
   "execution_count": null,
   "metadata": {},
   "outputs": [],
   "source": [
    "course_select_query = '''\n",
    "Select cn.course_id\n",
    "    ,cn.course_name\n",
    "    ,cv.course_version_id\n",
    "from \"Courses\".\"course_name\" as cn\n",
    "left join (select course_id, MAX(course_version_id) as course_version_id from \"Courses\".\"course_version\" group by course_id) as cv on cn.course_id = cast(cv.course_id as int)\n",
    "'''"
   ]
  },
  {
   "cell_type": "code",
   "execution_count": null,
   "metadata": {},
   "outputs": [],
   "source": [
    "courses = golf_functions.pull_from_sql(course_select_query)"
   ]
  },
  {
   "cell_type": "code",
   "execution_count": null,
   "metadata": {},
   "outputs": [],
   "source": [
    "course_select = widgets.Dropdown(options = list(courses['course_name']))\n",
    "course_select"
   ]
  },
  {
   "cell_type": "code",
   "execution_count": null,
   "metadata": {},
   "outputs": [],
   "source": [
    "course_info_entry = courses[courses['course_name'] == course_select.value]"
   ]
  },
  {
   "cell_type": "code",
   "execution_count": null,
   "metadata": {},
   "outputs": [],
   "source": [
    "# labels and widgets for data entry\n",
    "par_lbl = widgets.Label('Par')\n",
    "par_ent = widgets.Text()\n",
    "tee_lbl = widgets.Label('Tee Name')\n",
    "tee_ent = widgets.Text()\n",
    "total_distance_lbl = widgets.Label('Total Distance')\n",
    "total_distance_ent = widgets.IntText()\n",
    "F9_distance_lbl = widgets.Label('Front 9 Distance')\n",
    "F9_disance_ent = widgets.IntText()\n",
    "B9_distance_lbl = widgets.Label('Back 9 Distance')\n",
    "B9_distance_ent = widgets.IntText()\n",
    "rating_lbl = widgets.Label('Rating')\n",
    "rating_ent = widgets.FloatText()\n",
    "slope_lbl = widgets.Label('Slope')\n",
    "slope_ent = widgets.IntText()"
   ]
  },
  {
   "cell_type": "code",
   "execution_count": null,
   "metadata": {},
   "outputs": [],
   "source": [
    "# display() is used for multiple entries\n",
    "display(par_lbl)\n",
    "display(par_ent)\n",
    "display(tee_lbl)\n",
    "display(tee_ent)\n",
    "display(total_distance_lbl)\n",
    "display(total_distance_ent)\n",
    "display(F9_distance_lbl)\n",
    "display(F9_disance_ent)\n",
    "display(B9_distance_lbl)\n",
    "display(B9_distance_ent)\n",
    "display(rating_lbl)\n",
    "display(rating_ent)\n",
    "display(slope_lbl)\n",
    "display(slope_ent)"
   ]
  },
  {
   "cell_type": "code",
   "execution_count": null,
   "metadata": {},
   "outputs": [],
   "source": [
    "# dict used to make df needed for load_sql\n",
    "course_info_dict = {\n",
    "    'par':par_ent.value,\n",
    "    'tee':tee_ent.value,\n",
    "    'total_distance':total_distance_ent.value,\n",
    "    'f9_distance':F9_disance_ent.value,\n",
    "    'b9_distance':B9_distance_ent.value,\n",
    "    'rating':rating_ent.value,\n",
    "    'slope':slope_ent.value,\n",
    "    'course_name':course_select.value\n",
    "}\n",
    "df = pd.DataFrame([course_info_dict],columns=course_info_dict.keys())\n",
    "course_info_entry_final = pd.merge(course_info_entry,df, on='course_name')\n",
    "#double checking entry\n",
    "print('Is the correct course information')\n",
    "print(course_info_entry_final['course_name'][0])\n",
    "course_info_entry_final.drop('course_name', axis=1, inplace = True)\n",
    "course_info_entry_final"
   ]
  },
  {
   "source": [
    "If the above course information is correct please run the next cell. "
   ],
   "cell_type": "markdown",
   "metadata": {}
  },
  {
   "cell_type": "code",
   "execution_count": null,
   "metadata": {},
   "outputs": [],
   "source": [
    "golf_functions.load_sql(course_info_entry_final, 'Courses', 'course_info')"
   ]
  },
  {
   "cell_type": "code",
   "execution_count": null,
   "metadata": {},
   "outputs": [],
   "source": []
  }
 ]
}